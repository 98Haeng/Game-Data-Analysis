{
 "cells": [
  {
   "cell_type": "markdown",
   "metadata": {},
   "source": [
    "# 스타2 종족별 선택 횟수, 승률 EDA"
   ]
  },
  {
   "cell_type": "code",
   "execution_count": 1,
   "metadata": {},
   "outputs": [],
   "source": [
    "import pandas as pd\n",
    "import numpy as np\n",
    "import matplotlib.pyplot as plt"
   ]
  },
  {
   "cell_type": "code",
   "execution_count": 2,
   "metadata": {},
   "outputs": [
    {
     "data": {
      "text/html": [
       "<div>\n",
       "<style scoped>\n",
       "    .dataframe tbody tr th:only-of-type {\n",
       "        vertical-align: middle;\n",
       "    }\n",
       "\n",
       "    .dataframe tbody tr th {\n",
       "        vertical-align: top;\n",
       "    }\n",
       "\n",
       "    .dataframe thead th {\n",
       "        text-align: right;\n",
       "    }\n",
       "</style>\n",
       "<table border=\"1\" class=\"dataframe\">\n",
       "  <thead>\n",
       "    <tr style=\"text-align: right;\">\n",
       "      <th></th>\n",
       "      <th>game_id</th>\n",
       "      <th>winner</th>\n",
       "      <th>time</th>\n",
       "      <th>player</th>\n",
       "      <th>species</th>\n",
       "      <th>event</th>\n",
       "      <th>event_contents</th>\n",
       "    </tr>\n",
       "  </thead>\n",
       "  <tbody>\n",
       "    <tr>\n",
       "      <th>0</th>\n",
       "      <td>0</td>\n",
       "      <td>1</td>\n",
       "      <td>0.00</td>\n",
       "      <td>0</td>\n",
       "      <td>T</td>\n",
       "      <td>Camera</td>\n",
       "      <td>at (145.25, 21.5078125)</td>\n",
       "    </tr>\n",
       "    <tr>\n",
       "      <th>1</th>\n",
       "      <td>0</td>\n",
       "      <td>1</td>\n",
       "      <td>0.00</td>\n",
       "      <td>1</td>\n",
       "      <td>T</td>\n",
       "      <td>Camera</td>\n",
       "      <td>at (22.75, 147.0078125)</td>\n",
       "    </tr>\n",
       "    <tr>\n",
       "      <th>2</th>\n",
       "      <td>0</td>\n",
       "      <td>1</td>\n",
       "      <td>0.02</td>\n",
       "      <td>0</td>\n",
       "      <td>T</td>\n",
       "      <td>Selection</td>\n",
       "      <td>['OrbitalCommand [3080001]']</td>\n",
       "    </tr>\n",
       "    <tr>\n",
       "      <th>3</th>\n",
       "      <td>0</td>\n",
       "      <td>1</td>\n",
       "      <td>0.02</td>\n",
       "      <td>0</td>\n",
       "      <td>T</td>\n",
       "      <td>Ability</td>\n",
       "      <td>(1360) - TrainSCV</td>\n",
       "    </tr>\n",
       "    <tr>\n",
       "      <th>4</th>\n",
       "      <td>0</td>\n",
       "      <td>1</td>\n",
       "      <td>0.14</td>\n",
       "      <td>0</td>\n",
       "      <td>T</td>\n",
       "      <td>Camera</td>\n",
       "      <td>at (142.99609375, 24.50390625)</td>\n",
       "    </tr>\n",
       "  </tbody>\n",
       "</table>\n",
       "</div>"
      ],
      "text/plain": [
       "   game_id  winner  time  player species      event  \\\n",
       "0        0       1  0.00       0       T     Camera   \n",
       "1        0       1  0.00       1       T     Camera   \n",
       "2        0       1  0.02       0       T  Selection   \n",
       "3        0       1  0.02       0       T    Ability   \n",
       "4        0       1  0.14       0       T     Camera   \n",
       "\n",
       "                   event_contents  \n",
       "0         at (145.25, 21.5078125)  \n",
       "1         at (22.75, 147.0078125)  \n",
       "2    ['OrbitalCommand [3080001]']  \n",
       "3               (1360) - TrainSCV  \n",
       "4  at (142.99609375, 24.50390625)  "
      ]
     },
     "execution_count": 2,
     "metadata": {},
     "output_type": "execute_result"
    }
   ],
   "source": [
    "# 데이터 불러오기\n",
    "train=pd.read_csv('train.csv')\n",
    "train.head()"
   ]
  },
  {
   "cell_type": "code",
   "execution_count": 3,
   "metadata": {},
   "outputs": [
    {
     "data": {
      "text/html": [
       "<div>\n",
       "<style scoped>\n",
       "    .dataframe tbody tr th:only-of-type {\n",
       "        vertical-align: middle;\n",
       "    }\n",
       "\n",
       "    .dataframe tbody tr th {\n",
       "        vertical-align: top;\n",
       "    }\n",
       "\n",
       "    .dataframe thead th {\n",
       "        text-align: right;\n",
       "    }\n",
       "</style>\n",
       "<table border=\"1\" class=\"dataframe\">\n",
       "  <thead>\n",
       "    <tr style=\"text-align: right;\">\n",
       "      <th></th>\n",
       "      <th>game_id</th>\n",
       "      <th>player</th>\n",
       "      <th>species</th>\n",
       "      <th>win</th>\n",
       "    </tr>\n",
       "  </thead>\n",
       "  <tbody>\n",
       "    <tr>\n",
       "      <th>0</th>\n",
       "      <td>0</td>\n",
       "      <td>0</td>\n",
       "      <td>T</td>\n",
       "      <td>False</td>\n",
       "    </tr>\n",
       "    <tr>\n",
       "      <th>1</th>\n",
       "      <td>0</td>\n",
       "      <td>1</td>\n",
       "      <td>T</td>\n",
       "      <td>True</td>\n",
       "    </tr>\n",
       "    <tr>\n",
       "      <th>2</th>\n",
       "      <td>1</td>\n",
       "      <td>1</td>\n",
       "      <td>T</td>\n",
       "      <td>True</td>\n",
       "    </tr>\n",
       "    <tr>\n",
       "      <th>3</th>\n",
       "      <td>1</td>\n",
       "      <td>0</td>\n",
       "      <td>P</td>\n",
       "      <td>False</td>\n",
       "    </tr>\n",
       "    <tr>\n",
       "      <th>4</th>\n",
       "      <td>2</td>\n",
       "      <td>1</td>\n",
       "      <td>Z</td>\n",
       "      <td>False</td>\n",
       "    </tr>\n",
       "  </tbody>\n",
       "</table>\n",
       "</div>"
      ],
      "text/plain": [
       "   game_id  player species    win\n",
       "0        0       0       T  False\n",
       "1        0       1       T   True\n",
       "2        1       1       T   True\n",
       "3        1       0       P  False\n",
       "4        2       1       Z  False"
      ]
     },
     "execution_count": 3,
     "metadata": {},
     "output_type": "execute_result"
    }
   ],
   "source": [
    "# 특정 항목의 데이터만 \n",
    "df=train[['game_id','winner','player','species']]\n",
    "df=df.drop_duplicates().reset_index(drop=True) \n",
    "# drop_duplicates : 중복 데이터 처리\n",
    "df['win']=(df['winner']==df['player'])\n",
    "df=df.drop(['winner'],axis=1)\n",
    "df.head()"
   ]
  },
  {
   "cell_type": "markdown",
   "metadata": {},
   "source": [
    "### 1. 종족 선택 수"
   ]
  },
  {
   "cell_type": "code",
   "execution_count": 4,
   "metadata": {},
   "outputs": [
    {
     "data": {
      "image/png": "[encoded data removed]",
      "text/plain": [
       "<Figure size 432x288 with 1 Axes>"
      ]
     },
     "metadata": {
      "needs_background": "light"
     },
     "output_type": "display_data"
    }
   ],
   "source": [
    "label=['Terran','Protoss','Zerg']\n",
    "index=np.arange(len(label))\n",
    "\n",
    "plt.bar(index,df['species'].value_counts())\n",
    "plt.xlabel('Species',fontsize=13)\n",
    "plt.ylabel('# of picks',fontsize=13)\n",
    "plt.xticks(index,label,fontsize=12)\n",
    "plt.show()"
   ]
  },
  {
   "cell_type": "markdown",
   "metadata": {},
   "source": [
    "전체 게임에서 각 종족이 몇번 선택되었는지 종족 선택수를 그림\n",
    "\n",
    "선택횟수는 테란, 프로토스, 저그 순으로 높은 것을 확인할 수 있다"
   ]
  },
  {
   "cell_type": "markdown",
   "metadata": {},
   "source": [
    "### 2. 종족간 승률"
   ]
  },
  {
   "cell_type": "code",
   "execution_count": 6,
   "metadata": {},
   "outputs": [],
   "source": [
    "game_ids=df['game_id'].unique()\n",
    "\n",
    "wins=df.loc[df['win']==True]\n",
    "loses=df.loc[df['win']==False]\n",
    "\n",
    "game={\n",
    "    'TvT':0, 'TvP':0, 'TvZ':0,\n",
    "    'PvT':0, 'PvP':0, 'PvZ':0,\n",
    "    'ZvT':0, 'ZvP':0, 'ZvZ':0,\n",
    "}\n",
    "\n",
    "for game_id in game_ids:\n",
    "    win=wins[wins['game_id']==game_id]['species'].iloc[0]\n",
    "    lose=loses[loses['game_id']==game_id]['species'].iloc[0]\n",
    "    \n",
    "    if (win == 'T') and (lose == 'T'):\n",
    "        game['TvT'] += 1\n",
    "    elif (win == 'T') and (lose == 'P'):\n",
    "        game['TvP'] += 1\n",
    "    elif (win == 'T') and (lose == 'Z'):\n",
    "        game['TvZ'] += 1\n",
    "        \n",
    "    elif (win == 'P') and (lose == 'T'):\n",
    "        game['PvT'] += 1\n",
    "    elif (win == 'P') and (lose == 'P'):\n",
    "        game['PvP'] += 1\n",
    "    elif (win == 'P') and (lose == 'Z'):\n",
    "        game['PvZ'] += 1\n",
    "        \n",
    "    elif (win == 'Z') and (lose == 'T'):\n",
    "        game['ZvT'] += 1\n",
    "    elif (win == 'Z') and (lose == 'P'):\n",
    "        game['ZvP'] += 1\n",
    "    elif (win == 'Z') and (lose == 'Z'):\n",
    "        game['ZvZ'] += 1\n",
    "    else:\n",
    "        raise ValueError\n",
    "# raise : 프로그래머가 지정한 예외가 발생하도록 강제할 수 있게 함"
   ]
  },
  {
   "cell_type": "code",
   "execution_count": 8,
   "metadata": {},
   "outputs": [
    {
     "name": "stdout",
     "output_type": "stream",
     "text": [
      "테란 vs 프로토스\n",
      "T: 49.88 %\n",
      "P: 50.12 % \n",
      "\n",
      "프로토스 vs 저그\n",
      "P: 48.79 %\n",
      "Z: 51.21 % \n",
      "\n",
      "저그 vs 테란\n",
      "Z: 50.65 %\n",
      "T: 49.35 %\n"
     ]
    }
   ],
   "source": [
    "print('테란 vs 프로토스')\n",
    "print('T: %.2f %%'%(\n",
    "    100*game['TvP']/(game['TvP']+game['PvT'])\n",
    "))\n",
    "print('P: %.2f %% \\n'%(\n",
    "    100*game['PvT']/(game['TvP']+game['PvT'])\n",
    "))\n",
    "\n",
    "print('프로토스 vs 저그')\n",
    "print('P: %.2f %%'%(\n",
    "    100*game['PvZ']/(game['PvZ']+game['ZvP'])\n",
    "))\n",
    "print('Z: %.2f %% \\n'%(\n",
    "    100*game['ZvP']/(game['PvZ']+game['ZvP'])\n",
    "))\n",
    "\n",
    "print('저그 vs 테란')\n",
    "print('Z: %.2f %%'%(\n",
    "    100*game['ZvT']/(game['TvZ']+game['ZvT'])\n",
    "))\n",
    "print('T: %.2f %%'%(\n",
    "    100*game['TvZ']/(game['TvZ']+game['ZvT'])\n",
    "))"
   ]
  },
  {
   "cell_type": "markdown",
   "metadata": {},
   "source": [
    "테란이 선택 횟수는 높지만 승률은 프로토스전 49.88%, 저그전 49.35% 으로 낮은 것을 확인할 수 있었습니다.\n",
    "반면 저그의 경우 테란, 프로토스 모두에 대해 승률이 50.65%, 51.21% 로 우세합니다."
   ]
  },
  {
   "cell_type": "markdown",
   "metadata": {},
   "source": [
    "### 3. 결론\n",
    "테란: 높은 선택 횟수, 낮은 승률\n",
    "\n",
    "저그: 낮은 선택 횟수, 높은 승률\n",
    "\n",
    "프로토스: 중간 선택 횟수, 테란에게는 강하나 저그한테 열세"
   ]
  },
  {
   "cell_type": "code",
   "execution_count": null,
   "metadata": {},
   "outputs": [],
   "source": []
  }
 ],
 "metadata": {
  "kernelspec": {
   "display_name": "Python 3",
   "language": "python",
   "name": "python3"
  },
  "language_info": {
   "codemirror_mode": {
    "name": "ipython",
    "version": 3
   },
   "file_extension": ".py",
   "mimetype": "text/x-python",
   "name": "python",
   "nbconvert_exporter": "python",
   "pygments_lexer": "ipython3",
   "version": "3.8.5"
  }
 },
 "nbformat": 4,
 "nbformat_minor": 4
}
